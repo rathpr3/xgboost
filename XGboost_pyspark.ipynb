{
  "nbformat": 4,
  "nbformat_minor": 0,
  "metadata": {
    "colab": {
      "name": "XGboost_pyspark.ipynb",
      "provenance": []
    },
    "kernelspec": {
      "name": "python3",
      "display_name": "Python 3"
    },
    "accelerator": "GPU"
  },
  "cells": [
    {
      "cell_type": "code",
      "metadata": {
        "id": "jEymwVEhRU51"
      },
      "source": [
        "!apt-get install openjdk-8-jdk-headless -qq > /dev/null\n",
        "!wget -q https://downloads.apache.org/spark/spark-2.4.7/spark-2.4.7-bin-hadoop2.7.tgz\n",
        "!tar xf spark-2.4.7-bin-hadoop2.7.tgz\n",
        "!pip install -q findspark"
      ],
      "execution_count": null,
      "outputs": []
    },
    {
      "cell_type": "markdown",
      "metadata": {
        "id": "ZolWZpjukQzQ"
      },
      "source": [
        "# New Section"
      ]
    },
    {
      "cell_type": "code",
      "metadata": {
        "id": "YgdVGFzokURm",
        "colab": {
          "base_uri": "https://localhost:8080/"
        },
        "outputId": "97f2fd95-6bcd-47ab-ffb8-12f120aadc7f"
      },
      "source": [
        "from google.colab import drive\n",
        "drive.mount('/content/drive')"
      ],
      "execution_count": null,
      "outputs": [
        {
          "output_type": "stream",
          "text": [
            "Drive already mounted at /content/drive; to attempt to forcibly remount, call drive.mount(\"/content/drive\", force_remount=True).\n"
          ],
          "name": "stdout"
        }
      ]
    },
    {
      "cell_type": "code",
      "metadata": {
        "id": "kCNwVCj1pdFj",
        "colab": {
          "base_uri": "https://localhost:8080/"
        },
        "outputId": "f70a12c9-ab6d-4c54-d71a-998d4bbce6b6"
      },
      "source": [
        "!wget https://repo1.maven.org/maven2/ml/dmlc/xgboost4j_2.12/1.3.1/xgboost4j_2.12-1.3.1.jar\n",
        "!wget https://repo1.maven.org/maven2/ml/dmlc/xgboost4j-spark_2.12/1.3.1/xgboost4j-spark_2.12-1.3.1.jar\n"
      ],
      "execution_count": null,
      "outputs": [
        {
          "output_type": "stream",
          "text": [
            "--2021-03-16 12:15:28--  https://repo1.maven.org/maven2/ml/dmlc/xgboost4j_2.12/1.3.1/xgboost4j_2.12-1.3.1.jar\n",
            "Resolving repo1.maven.org (repo1.maven.org)... 199.232.192.209, 199.232.196.209\n",
            "Connecting to repo1.maven.org (repo1.maven.org)|199.232.192.209|:443... connected.\n",
            "HTTP request sent, awaiting response... 200 OK\n",
            "Length: 3432273 (3.3M) [application/java-archive]\n",
            "Saving to: ‘xgboost4j_2.12-1.3.1.jar.5’\n",
            "\n",
            "\r          xgboost4j   0%[                    ]       0  --.-KB/s               \rxgboost4j_2.12-1.3. 100%[===================>]   3.27M  --.-KB/s    in 0.03s   \n",
            "\n",
            "2021-03-16 12:15:28 (106 MB/s) - ‘xgboost4j_2.12-1.3.1.jar.5’ saved [3432273/3432273]\n",
            "\n",
            "--2021-03-16 12:15:28--  https://repo1.maven.org/maven2/ml/dmlc/xgboost4j-spark_2.12/1.3.1/xgboost4j-spark_2.12-1.3.1.jar\n",
            "Resolving repo1.maven.org (repo1.maven.org)... 199.232.192.209, 199.232.196.209\n",
            "Connecting to repo1.maven.org (repo1.maven.org)|199.232.192.209|:443... connected.\n",
            "HTTP request sent, awaiting response... 200 OK\n",
            "Length: 276094 (270K) [application/java-archive]\n",
            "Saving to: ‘xgboost4j-spark_2.12-1.3.1.jar.5’\n",
            "\n",
            "xgboost4j-spark_2.1 100%[===================>] 269.62K  --.-KB/s    in 0.008s  \n",
            "\n",
            "2021-03-16 12:15:28 (33.7 MB/s) - ‘xgboost4j-spark_2.12-1.3.1.jar.5’ saved [276094/276094]\n",
            "\n"
          ],
          "name": "stdout"
        }
      ]
    },
    {
      "cell_type": "code",
      "metadata": {
        "id": "BbugtVXGgQwt",
        "colab": {
          "base_uri": "https://localhost:8080/"
        },
        "outputId": "f1066e20-86a4-4f11-c226-5b57a0c4861f"
      },
      "source": [
        "!ls\n",
        "!pwd"
      ],
      "execution_count": null,
      "outputs": [
        {
          "output_type": "stream",
          "text": [
            "diabetes.csv\n",
            "drive\n",
            "part-00000-61b3265b-867d-4c02-b03a-27a7c1b91e33-c000.snappy.parquet\n",
            "sample_data\n",
            "spark-2.4.7-bin-hadoop2.7\n",
            "spark-2.4.7-bin-hadoop2.7.tgz\n",
            "spark-2.4.7-bin-hadoop2.7.tgz.1\n",
            "spark-2.4.7-bin-hadoop2.7.tgz.2\n",
            "spark-2.4.7-bin-hadoop2.7.tgz.3\n",
            "spark-2.4.7-bin-hadoop2.7.tgz.4\n",
            "sparkxgb.zip\n",
            "xgboost4j_2.12-1.3.1.jar\n",
            "xgboost4j_2.12-1.3.1.jar.1\n",
            "xgboost4j_2.12-1.3.1.jar.2\n",
            "xgboost4j_2.12-1.3.1.jar.3\n",
            "xgboost4j_2.12-1.3.1.jar.4\n",
            "xgboost4j_2.12-1.3.1.jar.5\n",
            "xgboost4j-spark_2.12-1.3.1.jar\n",
            "xgboost4j-spark_2.12-1.3.1.jar.1\n",
            "xgboost4j-spark_2.12-1.3.1.jar.2\n",
            "xgboost4j-spark_2.12-1.3.1.jar.3\n",
            "xgboost4j-spark_2.12-1.3.1.jar.4\n",
            "xgboost4j-spark_2.12-1.3.1.jar.5\n",
            "/content\n"
          ],
          "name": "stdout"
        }
      ]
    },
    {
      "cell_type": "code",
      "metadata": {
        "id": "CrzF3tsBJ-3r"
      },
      "source": [
        "import os\n",
        "os.environ[\"JAVA_HOME\"] = \"/usr/lib/jvm/java-8-openjdk-amd64\"\n",
        "os.environ[\"SPARK_HOME\"] = \"/content/spark-2.4.7-bin-hadoop2.7\""
      ],
      "execution_count": null,
      "outputs": []
    },
    {
      "cell_type": "code",
      "metadata": {
        "id": "8d6HUb7Xhc2m"
      },
      "source": [
        "os.environ['PYSPARK_SUBMIT_ARGS'] = '--jars /content/xgboost4j_2.12-1.3.1.jar,/content/xgboost4j-spark_2.12-1.3.1.jar,/content/sparkxgb.zip pyspark-shell'"
      ],
      "execution_count": null,
      "outputs": []
    },
    {
      "cell_type": "code",
      "metadata": {
        "id": "TyrI8ZghKksx"
      },
      "source": [
        "import findspark\n",
        "findspark.init()\n",
        "from pyspark.sql import SparkSession\n",
        "spark = SparkSession.builder.master(\"local[*]\").getOrCreate()\n",
        "spark.sparkContext.addPyFile(\"/content/sparkxgb.zip\")"
      ],
      "execution_count": null,
      "outputs": []
    },
    {
      "cell_type": "code",
      "metadata": {
        "id": "XqfQz-kD2jjs"
      },
      "source": [
        "reader = spark.read"
      ],
      "execution_count": null,
      "outputs": []
    },
    {
      "cell_type": "code",
      "metadata": {
        "id": "5G845ub6jiQw"
      },
      "source": [
        "from sparkxgb import XGBoostEstimator\n",
        "\n",
        "import numpy as np\n",
        "import pandas as pd"
      ],
      "execution_count": null,
      "outputs": []
    },
    {
      "cell_type": "code",
      "metadata": {
        "id": "uwF21tdLxrjc"
      },
      "source": [
        "train_data = spark.read.csv(\"/content/diabetes.csv\",header=True)"
      ],
      "execution_count": null,
      "outputs": []
    },
    {
      "cell_type": "code",
      "metadata": {
        "id": "sEygKT7L5bg1",
        "colab": {
          "base_uri": "https://localhost:8080/"
        },
        "outputId": "8211eee3-8827-4eb9-9e4b-d1013544f26e"
      },
      "source": [
        "train_data.show()"
      ],
      "execution_count": null,
      "outputs": [
        {
          "output_type": "stream",
          "text": [
            "+-----------+-------+-------------+-------------+-------+----+------------------------+---+-------+\n",
            "|Pregnancies|Glucose|BloodPressure|SkinThickness|Insulin| BMI|DiabetesPedigreeFunction|Age|Outcome|\n",
            "+-----------+-------+-------------+-------------+-------+----+------------------------+---+-------+\n",
            "|          6|    148|           72|           35|      0|33.6|                   0.627| 50|      1|\n",
            "|          1|     85|           66|           29|      0|26.6|                   0.351| 31|      0|\n",
            "|          8|    183|           64|            0|      0|23.3|                   0.672| 32|      1|\n",
            "|          1|     89|           66|           23|     94|28.1|                   0.167| 21|      0|\n",
            "|          0|    137|           40|           35|    168|43.1|                   2.288| 33|      1|\n",
            "|          5|    116|           74|            0|      0|25.6|                   0.201| 30|      0|\n",
            "|          3|     78|           50|           32|     88|  31|                   0.248| 26|      1|\n",
            "|         10|    115|            0|            0|      0|35.3|                   0.134| 29|      0|\n",
            "|          2|    197|           70|           45|    543|30.5|                   0.158| 53|      1|\n",
            "|          8|    125|           96|            0|      0|   0|                   0.232| 54|      1|\n",
            "|          4|    110|           92|            0|      0|37.6|                   0.191| 30|      0|\n",
            "|         10|    168|           74|            0|      0|  38|                   0.537| 34|      1|\n",
            "|         10|    139|           80|            0|      0|27.1|                   1.441| 57|      0|\n",
            "|          1|    189|           60|           23|    846|30.1|                   0.398| 59|      1|\n",
            "|          5|    166|           72|           19|    175|25.8|                   0.587| 51|      1|\n",
            "|          7|    100|            0|            0|      0|  30|                   0.484| 32|      1|\n",
            "|          0|    118|           84|           47|    230|45.8|                   0.551| 31|      1|\n",
            "|          7|    107|           74|            0|      0|29.6|                   0.254| 31|      1|\n",
            "|          1|    103|           30|           38|     83|43.3|                   0.183| 33|      0|\n",
            "|          1|    115|           70|           30|     96|34.6|                   0.529| 32|      1|\n",
            "+-----------+-------+-------------+-------------+-------+----+------------------------+---+-------+\n",
            "only showing top 20 rows\n",
            "\n"
          ],
          "name": "stdout"
        }
      ]
    },
    {
      "cell_type": "code",
      "metadata": {
        "id": "5VAMo4rkyGOD"
      },
      "source": [
        "from pyspark.sql.functions import col\r\n",
        "new_data = train_data.select(*(col(c).cast(\"float\").alias(c) for c in train_data.columns))"
      ],
      "execution_count": null,
      "outputs": []
    },
    {
      "cell_type": "code",
      "metadata": {
        "colab": {
          "base_uri": "https://localhost:8080/"
        },
        "id": "6ntjL840yQS_",
        "outputId": "204674e4-c5e1-4412-d3a7-a859498be724"
      },
      "source": [
        "from pyspark.sql.functions import count, isnan, when\r\n",
        "#checking for null ir nan type values in our columns\r\n",
        "new_data.select([count(when(col(c).isNull(), c)).alias(c) for c in new_data.columns]).show()"
      ],
      "execution_count": null,
      "outputs": [
        {
          "output_type": "stream",
          "text": [
            "+-----------+-------+-------------+-------------+-------+---+------------------------+---+-------+\n",
            "|Pregnancies|Glucose|BloodPressure|SkinThickness|Insulin|BMI|DiabetesPedigreeFunction|Age|Outcome|\n",
            "+-----------+-------+-------------+-------------+-------+---+------------------------+---+-------+\n",
            "|          0|      0|            0|            0|      0|  0|                       0|  0|      0|\n",
            "+-----------+-------+-------------+-------------+-------+---+------------------------+---+-------+\n",
            "\n"
          ],
          "name": "stdout"
        }
      ]
    },
    {
      "cell_type": "code",
      "metadata": {
        "colab": {
          "base_uri": "https://localhost:8080/"
        },
        "id": "_P_udB4RyVjo",
        "outputId": "328e7a27-fd3f-422e-9fde-f32c3d43cde0"
      },
      "source": [
        "from pyspark.ml.feature import VectorAssembler\r\n",
        "from pyspark.ml.feature import StandardScaler\r\n",
        "cols=new_data.columns\r\n",
        "cols.remove(\"Outcome\")\r\n",
        "assembler = VectorAssembler(inputCols=cols,outputCol=\"features\")\r\n",
        "\r\n",
        "# Now let us use the transform method to transform our dataset\r\n",
        "data=assembler.transform(new_data)\r\n",
        "\r\n",
        "data.select(\"features\",'Outcome').show(truncate=False)"
      ],
      "execution_count": null,
      "outputs": [
        {
          "output_type": "stream",
          "text": [
            "+-----------------------------------------------------------------------+-------+\n",
            "|features                                                               |Outcome|\n",
            "+-----------------------------------------------------------------------+-------+\n",
            "|[6.0,148.0,72.0,35.0,0.0,33.599998474121094,0.6269999742507935,50.0]   |1.0    |\n",
            "|[1.0,85.0,66.0,29.0,0.0,26.600000381469727,0.35100001096725464,31.0]   |0.0    |\n",
            "|[8.0,183.0,64.0,0.0,0.0,23.299999237060547,0.671999990940094,32.0]     |1.0    |\n",
            "|[1.0,89.0,66.0,23.0,94.0,28.100000381469727,0.16699999570846558,21.0]  |0.0    |\n",
            "|[0.0,137.0,40.0,35.0,168.0,43.099998474121094,2.2880001068115234,33.0] |1.0    |\n",
            "|[5.0,116.0,74.0,0.0,0.0,25.600000381469727,0.20100000500679016,30.0]   |0.0    |\n",
            "|[3.0,78.0,50.0,32.0,88.0,31.0,0.24799999594688416,26.0]                |1.0    |\n",
            "|[10.0,115.0,0.0,0.0,0.0,35.29999923706055,0.1340000033378601,29.0]     |0.0    |\n",
            "|[2.0,197.0,70.0,45.0,543.0,30.5,0.15800000727176666,53.0]              |1.0    |\n",
            "|[8.0,125.0,96.0,0.0,0.0,0.0,0.23199999332427979,54.0]                  |1.0    |\n",
            "|[4.0,110.0,92.0,0.0,0.0,37.599998474121094,0.19099999964237213,30.0]   |0.0    |\n",
            "|[10.0,168.0,74.0,0.0,0.0,38.0,0.5370000004768372,34.0]                 |1.0    |\n",
            "|[10.0,139.0,80.0,0.0,0.0,27.100000381469727,1.440999984741211,57.0]    |0.0    |\n",
            "|[1.0,189.0,60.0,23.0,846.0,30.100000381469727,0.39800000190734863,59.0]|1.0    |\n",
            "|[5.0,166.0,72.0,19.0,175.0,25.799999237060547,0.5870000123977661,51.0] |1.0    |\n",
            "|[7.0,100.0,0.0,0.0,0.0,30.0,0.48399999737739563,32.0]                  |1.0    |\n",
            "|[0.0,118.0,84.0,47.0,230.0,45.79999923706055,0.5509999990463257,31.0]  |1.0    |\n",
            "|[7.0,107.0,74.0,0.0,0.0,29.600000381469727,0.2540000081062317,31.0]    |1.0    |\n",
            "|[1.0,103.0,30.0,38.0,83.0,43.29999923706055,0.18299999833106995,33.0]  |0.0    |\n",
            "|[1.0,115.0,70.0,30.0,96.0,34.599998474121094,0.5289999842643738,32.0]  |1.0    |\n",
            "+-----------------------------------------------------------------------+-------+\n",
            "only showing top 20 rows\n",
            "\n"
          ],
          "name": "stdout"
        }
      ]
    },
    {
      "cell_type": "code",
      "metadata": {
        "id": "-DKVJA7Tynni"
      },
      "source": [
        "standardscaler=StandardScaler().setInputCol(\"features\").setOutputCol(\"Scaled_features\")\r\n",
        "data=standardscaler.fit(data).transform(data)"
      ],
      "execution_count": null,
      "outputs": []
    },
    {
      "cell_type": "code",
      "metadata": {
        "colab": {
          "base_uri": "https://localhost:8080/"
        },
        "id": "YylEwMRVyrsc",
        "outputId": "129c563b-4434-4ac7-dedd-6682c4b1e06f"
      },
      "source": [
        "data.select(\"features\",'Outcome','Scaled_features').show(truncate=False)"
      ],
      "execution_count": null,
      "outputs": [
        {
          "output_type": "stream",
          "text": [
            "+-----------------------------------------------------------------------+-------+---------------------------------------------------------------------------------------------------------------------------------------------------------+\n",
            "|features                                                               |Outcome|Scaled_features                                                                                                                                          |\n",
            "+-----------------------------------------------------------------------+-------+---------------------------------------------------------------------------------------------------------------------------------------------------------+\n",
            "|[6.0,148.0,72.0,35.0,0.0,33.599998474121094,0.6269999742507935,50.0]   |1.0    |[1.7806383732194306,4.628960915766174,3.7198138711154307,2.1940523222807116,0.0,4.261709202425419,1.8923810993699686,4.251616970894646]                  |\n",
            "|[1.0,85.0,66.0,29.0,0.0,26.600000381469727,0.35100001096725464,31.0]   |0.0    |[0.29677306220323846,2.658524850271114,3.4098293818558116,1.8179290670325896,0.0,3.373853320188119,1.0593713140527197,2.6360025219546803]                |\n",
            "|[8.0,183.0,64.0,0.0,0.0,23.299999237060547,0.671999990940094,32.0]     |1.0    |[2.3741844976259077,5.723647618818986,3.306501218769272,0.0,0.0,2.955292430788826,2.028197980632078,2.721034861372573]                                   |\n",
            "|[1.0,89.0,66.0,23.0,94.0,28.100000381469727,0.16699999570846558,21.0]  |0.0    |[0.29677306220323846,2.783631902048578,3.4098293818558116,1.4418058117844677,0.8156606685129459,3.564108203936454,0.5040313372439763,1.785679127775751]  |\n",
            "|[0.0,137.0,40.0,35.0,168.0,43.099998474121094,2.2880001068115234,33.0] |1.0    |[0.0,4.284916523378148,2.0665632617307947,2.1940523222807116,1.4577765139380312,5.466656799498205,6.905531635244907,2.806067200790466]                   |\n",
            "|[5.0,116.0,74.0,0.0,0.0,25.600000381469727,0.20100000500679016,30.0]   |0.0    |[1.4838653110161923,3.628104501546461,3.823142034201971,0.0,0.0,3.247016731022563,0.6066485264255773,2.5509701825367874]                                 |\n",
            "|[3.0,78.0,50.0,32.0,88.0,31.0,0.24799999594688416,26.0]                |1.0    |[0.8903191866097153,2.4395875096605515,2.5832040771634937,2.0059906946566506,0.7635972215865877,3.9319342641322486,0.7485016335678398,2.210840824865216] |\n",
            "|[10.0,115.0,0.0,0.0,0.0,35.29999923706055,0.1340000033378601,29.0]     |0.0    |[2.9677306220323847,3.596827738602095,0.0,0.0,0.0,4.477331500775503,0.4044323509503849,2.4659378431188945]                                               |\n",
            "|[2.0,197.0,70.0,45.0,543.0,30.5,0.15800000727176666,53.0]              |1.0    |[0.5935461244064769,6.161522300040111,3.616485708028891,2.8209244143609147,4.711741946835422,3.8685159695494704,0.4768680059655209,4.5067139891483246]   |\n",
            "|[8.0,125.0,96.0,0.0,0.0,0.0,0.23199999332427979,54.0]                  |1.0    |[2.3741844976259077,3.9095953680457556,4.959751828153908,0.0,0.0,0.0,0.7002111968910825,4.5917463285662174]                                              |\n",
            "|[4.0,110.0,92.0,0.0,0.0,37.599998474121094,0.19099999964237213,30.0]   |0.0    |[1.1870922488129538,3.440443923880265,4.7530955019808285,0.0,0.0,4.7690555590876444,0.5764669922591124,2.5509701825367874]                               |\n",
            "|[10.0,168.0,74.0,0.0,0.0,38.0,0.5370000004768372,34.0]                 |1.0    |[2.9677306220323847,5.254496174653495,3.823142034201971,0.0,0.0,4.8197903882911435,1.6207475167416163,2.891099540208359]                                 |\n",
            "|[10.0,139.0,80.0,0.0,0.0,27.100000381469727,1.440999984741211,57.0]    |0.0    |[2.9677306220323847,4.34747004926688,4.1331265234615895,0.0,0.0,3.4372716147708973,4.349156694264776,4.846843346819896]                                  |\n",
            "|[1.0,189.0,60.0,23.0,846.0,30.100000381469727,0.39800000190734863,59.0]|1.0    |[0.29677306220323846,5.911308196485182,3.0998448925961926,1.4418058117844677,7.340946016616514,3.8177813822675666,1.201224421194982,5.016908025655682]   |\n",
            "|[5.0,166.0,72.0,19.0,175.0,25.799999237060547,0.5870000123977661,51.0] |1.0    |[1.4838653110161923,5.191942648764763,3.7198138711154307,1.1910569749523863,1.5185172020187825,3.272383903702717,1.7716551425999747,4.336649310312539]   |\n",
            "|[7.0,100.0,0.0,0.0,0.0,30.0,0.48399999737739563,32.0]                  |1.0    |[2.077411435422669,3.127676294436604,0.0,0.0,0.0,3.8050976749666923,1.4607854621150949,2.721034861372573]                                                |\n",
            "|[0.0,118.0,84.0,47.0,230.0,45.79999923706055,0.5509999990463257,31.0]  |1.0    |[0.0,3.6906580274351932,4.33978284963467,2.9462988327769555,1.9957654655103998,5.809115687013845,1.6630016375902872,2.6360025219546803]                  |\n",
            "|[7.0,107.0,74.0,0.0,0.0,29.600000381469727,0.2540000081062317,31.0]    |1.0    |[2.077411435422669,3.3466136350471665,3.823142034201971,0.0,0.0,3.7543630876847884,0.7666105810520987,2.6360025219546803]                                |\n",
            "|[1.0,103.0,30.0,38.0,83.0,43.29999923706055,0.18299999833106995,33.0]  |0.0    |[0.29677306220323846,3.2215065832697025,1.5499224462980963,2.3821139499047725,0.7202110158146225,5.4920242140999544,0.5523217739207337,2.806067200790466]|\n",
            "|[1.0,115.0,70.0,30.0,96.0,34.599998474121094,0.5289999842643738,32.0]  |1.0    |[0.29677306220323846,3.596827738602095,3.616485708028891,1.88061627624061,0.833015150821732,4.388545791590976,1.596602253429271,2.721034861372573]       |\n",
            "+-----------------------------------------------------------------------+-------+---------------------------------------------------------------------------------------------------------------------------------------------------------+\n",
            "only showing top 20 rows\n",
            "\n"
          ],
          "name": "stdout"
        }
      ]
    },
    {
      "cell_type": "code",
      "metadata": {
        "colab": {
          "base_uri": "https://localhost:8080/"
        },
        "id": "iOWMtnxGywyz",
        "outputId": "6c3f20da-307d-49cd-b7ad-c80fed96db42"
      },
      "source": [
        "assembled_data = data.select(\"Scaled_features\",\"Outcome\")\r\n",
        "assembled_data.show()"
      ],
      "execution_count": null,
      "outputs": [
        {
          "output_type": "stream",
          "text": [
            "+--------------------+-------+\n",
            "|     Scaled_features|Outcome|\n",
            "+--------------------+-------+\n",
            "|[1.78063837321943...|    1.0|\n",
            "|[0.29677306220323...|    0.0|\n",
            "|[2.37418449762590...|    1.0|\n",
            "|[0.29677306220323...|    0.0|\n",
            "|[0.0,4.2849165233...|    1.0|\n",
            "|[1.48386531101619...|    0.0|\n",
            "|[0.89031918660971...|    1.0|\n",
            "|[2.96773062203238...|    0.0|\n",
            "|[0.59354612440647...|    1.0|\n",
            "|[2.37418449762590...|    1.0|\n",
            "|[1.18709224881295...|    0.0|\n",
            "|[2.96773062203238...|    1.0|\n",
            "|[2.96773062203238...|    0.0|\n",
            "|[0.29677306220323...|    1.0|\n",
            "|[1.48386531101619...|    1.0|\n",
            "|[2.07741143542266...|    1.0|\n",
            "|[0.0,3.6906580274...|    1.0|\n",
            "|[2.07741143542266...|    1.0|\n",
            "|[0.29677306220323...|    0.0|\n",
            "|[0.29677306220323...|    1.0|\n",
            "+--------------------+-------+\n",
            "only showing top 20 rows\n",
            "\n"
          ],
          "name": "stdout"
        }
      ]
    },
    {
      "cell_type": "code",
      "metadata": {
        "colab": {
          "base_uri": "https://localhost:8080/",
          "height": 354
        },
        "id": "_jp4A1sRy3f5",
        "outputId": "b6598acb-3adb-4816-94c7-3a65efae922a"
      },
      "source": [
        "from sparkxgb import XGBoostEstimator\r\n",
        "\r\n",
        "xgboost = XGBoostEstimator(\r\n",
        "    featuresCol=\"features\", \r\n",
        "    labelCol=\"Survival\", \r\n",
        "    predictionCol=\"prediction\"\r\n",
        ")"
      ],
      "execution_count": null,
      "outputs": [
        {
          "output_type": "error",
          "ename": "TypeError",
          "evalue": "ignored",
          "traceback": [
            "\u001b[0;31m---------------------------------------------------------------------------\u001b[0m",
            "\u001b[0;31mTypeError\u001b[0m                                 Traceback (most recent call last)",
            "\u001b[0;32m<ipython-input-83-1765fb9e3344>\u001b[0m in \u001b[0;36m<module>\u001b[0;34m()\u001b[0m\n\u001b[1;32m      4\u001b[0m     \u001b[0mfeaturesCol\u001b[0m\u001b[0;34m=\u001b[0m\u001b[0;34m\"features\"\u001b[0m\u001b[0;34m,\u001b[0m\u001b[0;34m\u001b[0m\u001b[0;34m\u001b[0m\u001b[0m\n\u001b[1;32m      5\u001b[0m     \u001b[0mlabelCol\u001b[0m\u001b[0;34m=\u001b[0m\u001b[0;34m\"Survival\"\u001b[0m\u001b[0;34m,\u001b[0m\u001b[0;34m\u001b[0m\u001b[0;34m\u001b[0m\u001b[0m\n\u001b[0;32m----> 6\u001b[0;31m     \u001b[0mpredictionCol\u001b[0m\u001b[0;34m=\u001b[0m\u001b[0;34m\"prediction\"\u001b[0m\u001b[0;34m\u001b[0m\u001b[0;34m\u001b[0m\u001b[0m\n\u001b[0m\u001b[1;32m      7\u001b[0m )\n",
            "\u001b[0;32m/content/spark-2.4.7-bin-hadoop2.7/python/pyspark/__init__.py\u001b[0m in \u001b[0;36mwrapper\u001b[0;34m(self, *args, **kwargs)\u001b[0m\n\u001b[1;32m    108\u001b[0m             \u001b[0;32mraise\u001b[0m \u001b[0mTypeError\u001b[0m\u001b[0;34m(\u001b[0m\u001b[0;34m\"Method %s forces keyword arguments.\"\u001b[0m \u001b[0;34m%\u001b[0m \u001b[0mfunc\u001b[0m\u001b[0;34m.\u001b[0m\u001b[0m__name__\u001b[0m\u001b[0;34m)\u001b[0m\u001b[0;34m\u001b[0m\u001b[0;34m\u001b[0m\u001b[0m\n\u001b[1;32m    109\u001b[0m         \u001b[0mself\u001b[0m\u001b[0;34m.\u001b[0m\u001b[0m_input_kwargs\u001b[0m \u001b[0;34m=\u001b[0m \u001b[0mkwargs\u001b[0m\u001b[0;34m\u001b[0m\u001b[0;34m\u001b[0m\u001b[0m\n\u001b[0;32m--> 110\u001b[0;31m         \u001b[0;32mreturn\u001b[0m \u001b[0mfunc\u001b[0m\u001b[0;34m(\u001b[0m\u001b[0mself\u001b[0m\u001b[0;34m,\u001b[0m \u001b[0;34m**\u001b[0m\u001b[0mkwargs\u001b[0m\u001b[0;34m)\u001b[0m\u001b[0;34m\u001b[0m\u001b[0;34m\u001b[0m\u001b[0m\n\u001b[0m\u001b[1;32m    111\u001b[0m     \u001b[0;32mreturn\u001b[0m \u001b[0mwrapper\u001b[0m\u001b[0;34m\u001b[0m\u001b[0;34m\u001b[0m\u001b[0m\n\u001b[1;32m    112\u001b[0m \u001b[0;34m\u001b[0m\u001b[0m\n",
            "\u001b[0;32m/tmp/spark-6d1ea651-e3cd-4af9-855b-470a457eca9d/userFiles-b9d5040f-7ef4-40f8-9175-515c470277a9/sparkxgb.zip/sparkxgb/xgboost.py\u001b[0m in \u001b[0;36m__init__\u001b[0;34m(self, checkpoint_path, checkpointInterval, missing, nthread, nworkers, silent, use_external_memory, baseMarginCol, featuresCol, labelCol, predictionCol, weightCol, base_score, booster, eval_metric, num_class, num_round, objective, seed, alpha, colsample_bytree, colsample_bylevel, eta, gamma, grow_policy, max_bin, max_delta_step, max_depth, min_child_weight, reg_lambda, scale_pos_weight, sketch_eps, subsample, tree_method, normalize_type, rate_drop, sample_type, skip_drop, lambda_bias)\u001b[0m\n\u001b[1;32m    113\u001b[0m \u001b[0;34m\u001b[0m\u001b[0m\n\u001b[1;32m    114\u001b[0m         \u001b[0msuper\u001b[0m\u001b[0;34m(\u001b[0m\u001b[0mXGBoostEstimator\u001b[0m\u001b[0;34m,\u001b[0m \u001b[0mself\u001b[0m\u001b[0;34m)\u001b[0m\u001b[0;34m.\u001b[0m\u001b[0m__init__\u001b[0m\u001b[0;34m(\u001b[0m\u001b[0;34m)\u001b[0m\u001b[0;34m\u001b[0m\u001b[0;34m\u001b[0m\u001b[0m\n\u001b[0;32m--> 115\u001b[0;31m         \u001b[0mself\u001b[0m\u001b[0;34m.\u001b[0m\u001b[0m_java_obj\u001b[0m \u001b[0;34m=\u001b[0m \u001b[0mself\u001b[0m\u001b[0;34m.\u001b[0m\u001b[0m_new_java_obj\u001b[0m\u001b[0;34m(\u001b[0m\u001b[0;34m\"ml.dmlc.xgboost4j.scala.spark.XGBoostEstimator\"\u001b[0m\u001b[0;34m,\u001b[0m \u001b[0mself\u001b[0m\u001b[0;34m.\u001b[0m\u001b[0muid\u001b[0m\u001b[0;34m)\u001b[0m\u001b[0;34m\u001b[0m\u001b[0;34m\u001b[0m\u001b[0m\n\u001b[0m\u001b[1;32m    116\u001b[0m         \u001b[0mself\u001b[0m\u001b[0;34m.\u001b[0m\u001b[0m_create_params_from_java\u001b[0m\u001b[0;34m(\u001b[0m\u001b[0;34m)\u001b[0m\u001b[0;34m\u001b[0m\u001b[0;34m\u001b[0m\u001b[0m\n\u001b[1;32m    117\u001b[0m         self._setDefault(\n",
            "\u001b[0;32m/content/spark-2.4.7-bin-hadoop2.7/python/pyspark/ml/wrapper.py\u001b[0m in \u001b[0;36m_new_java_obj\u001b[0;34m(java_class, *args)\u001b[0m\n\u001b[1;32m     65\u001b[0m             \u001b[0mjava_obj\u001b[0m \u001b[0;34m=\u001b[0m \u001b[0mgetattr\u001b[0m\u001b[0;34m(\u001b[0m\u001b[0mjava_obj\u001b[0m\u001b[0;34m,\u001b[0m \u001b[0mname\u001b[0m\u001b[0;34m)\u001b[0m\u001b[0;34m\u001b[0m\u001b[0;34m\u001b[0m\u001b[0m\n\u001b[1;32m     66\u001b[0m         \u001b[0mjava_args\u001b[0m \u001b[0;34m=\u001b[0m \u001b[0;34m[\u001b[0m\u001b[0m_py2java\u001b[0m\u001b[0;34m(\u001b[0m\u001b[0msc\u001b[0m\u001b[0;34m,\u001b[0m \u001b[0marg\u001b[0m\u001b[0;34m)\u001b[0m \u001b[0;32mfor\u001b[0m \u001b[0marg\u001b[0m \u001b[0;32min\u001b[0m \u001b[0margs\u001b[0m\u001b[0;34m]\u001b[0m\u001b[0;34m\u001b[0m\u001b[0;34m\u001b[0m\u001b[0m\n\u001b[0;32m---> 67\u001b[0;31m         \u001b[0;32mreturn\u001b[0m \u001b[0mjava_obj\u001b[0m\u001b[0;34m(\u001b[0m\u001b[0;34m*\u001b[0m\u001b[0mjava_args\u001b[0m\u001b[0;34m)\u001b[0m\u001b[0;34m\u001b[0m\u001b[0;34m\u001b[0m\u001b[0m\n\u001b[0m\u001b[1;32m     68\u001b[0m \u001b[0;34m\u001b[0m\u001b[0m\n\u001b[1;32m     69\u001b[0m     \u001b[0;34m@\u001b[0m\u001b[0mstaticmethod\u001b[0m\u001b[0;34m\u001b[0m\u001b[0;34m\u001b[0m\u001b[0m\n",
            "\u001b[0;31mTypeError\u001b[0m: 'JavaPackage' object is not callable"
          ]
        }
      ]
    },
    {
      "cell_type": "code",
      "metadata": {
        "id": "JP--zyP48CcZ"
      },
      "source": [
        "import time\n",
        "params = { \n",
        "    'eta': 0.1,\n",
        "    'gamma': 0.1,\n",
        "    'missing': 0.0,\n",
        "    'treeMethod': 'gpu_hist',\n",
        "    'maxDepth': 6, \n",
        "    'growPolicy': 'depthwise',\n",
        "    'lambda_': 1.0,\n",
        "    'subsample': 1.0,\n",
        "    'numRound': 1000,\n",
        "    'numWorkers': 1,\n",
        "    'verbosity': 2\n",
        "}\n",
        "classifier = XGBoostClassifier(**params).setLabelCol(label).setFeaturesCols(features)"
      ],
      "execution_count": null,
      "outputs": []
    },
    {
      "cell_type": "code",
      "metadata": {
        "id": "ETmJCqpc92DS"
      },
      "source": [
        "start_time = time.time()\n",
        "\n",
        "model=classifier.fit(train_data)\n",
        "\n",
        "print(\"GPU Training Time: %s seconds\" % (str(time.time() - start_time)))"
      ],
      "execution_count": null,
      "outputs": []
    },
    {
      "cell_type": "code",
      "metadata": {
        "id": "5HNM0Yvhad5g"
      },
      "source": [
        "!nvidia-smi"
      ],
      "execution_count": null,
      "outputs": []
    },
    {
      "cell_type": "code",
      "metadata": {
        "id": "gsncl_YUd_t5"
      },
      "source": [
        "model.write().overwrite().save('/content/model/')"
      ],
      "execution_count": null,
      "outputs": []
    },
    {
      "cell_type": "code",
      "metadata": {
        "id": "DSicQt2S_ZwA"
      },
      "source": [
        "!ls"
      ],
      "execution_count": null,
      "outputs": []
    },
    {
      "cell_type": "code",
      "metadata": {
        "id": "8SNSDrk8_a6v"
      },
      "source": [
        "loaded_model = XGBoostClassificationModel().load('/content/model/')"
      ],
      "execution_count": null,
      "outputs": []
    },
    {
      "cell_type": "code",
      "metadata": {
        "id": "JbOE8VmeLLRB"
      },
      "source": [
        "result=loaded_model.transform(test_data)"
      ],
      "execution_count": null,
      "outputs": []
    },
    {
      "cell_type": "code",
      "metadata": {
        "id": "9L5c-kfDLaoU"
      },
      "source": [
        "result.select(label, 'rawPrediction', 'probability', 'prediction').show(5)"
      ],
      "execution_count": null,
      "outputs": []
    },
    {
      "cell_type": "code",
      "metadata": {
        "id": "gCGdLPg66QRj"
      },
      "source": [
        ""
      ],
      "execution_count": null,
      "outputs": []
    },
    {
      "cell_type": "code",
      "metadata": {
        "id": "TmbmMJ8c6QJT"
      },
      "source": [
        ""
      ],
      "execution_count": null,
      "outputs": []
    },
    {
      "cell_type": "code",
      "metadata": {
        "id": "bXsirZW26QAZ"
      },
      "source": [
        ""
      ],
      "execution_count": null,
      "outputs": []
    },
    {
      "cell_type": "code",
      "metadata": {
        "id": "H5gTZuJj6P5K"
      },
      "source": [
        ""
      ],
      "execution_count": null,
      "outputs": []
    },
    {
      "cell_type": "code",
      "metadata": {
        "id": "0pizvNbX6NlH"
      },
      "source": [
        ""
      ],
      "execution_count": null,
      "outputs": []
    },
    {
      "cell_type": "code",
      "metadata": {
        "id": "woCQw2oZ6NUR"
      },
      "source": [
        ""
      ],
      "execution_count": null,
      "outputs": []
    },
    {
      "cell_type": "code",
      "metadata": {
        "id": "Uhq48w_WLlP9"
      },
      "source": [
        "MulticlassClassificationEvaluator().setLabelCol(label).evaluate(result)"
      ],
      "execution_count": null,
      "outputs": []
    },
    {
      "cell_type": "code",
      "metadata": {
        "id": "qvEZN98PMALM"
      },
      "source": [
        ""
      ],
      "execution_count": null,
      "outputs": []
    }
  ]
}